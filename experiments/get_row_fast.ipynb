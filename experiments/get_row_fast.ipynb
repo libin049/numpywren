{
 "cells": [
  {
   "cell_type": "code",
   "execution_count": 1,
   "metadata": {},
   "outputs": [
    {
     "name": "stdout",
     "output_type": "stream",
     "text": [
      "Populating the interactive namespace from numpy and matplotlib\n"
     ]
    }
   ],
   "source": [
    "%pylab inline\n",
    "import boto3\n",
    "import io\n",
    "import time\n",
    "import struct"
   ]
  },
  {
   "cell_type": "code",
   "execution_count": 2,
   "metadata": {},
   "outputs": [],
   "source": [
    "client = boto3.client('s3')"
   ]
  },
  {
   "cell_type": "code",
   "execution_count": 5,
   "metadata": {},
   "outputs": [],
   "source": [
    "x = np.random.randn(4096,4096)\n",
    "bio = io.BytesIO()\n",
    "np.save(bio, x)"
   ]
  },
  {
   "cell_type": "code",
   "execution_count": 6,
   "metadata": {},
   "outputs": [
    {
     "data": {
      "text/plain": [
       "{'ETag': '\"191f93c9c0c3da637b5415d489f7d00b\"',\n",
       " 'ResponseMetadata': {'HTTPHeaders': {'content-length': '0',\n",
       "   'date': 'Thu, 02 Aug 2018 14:35:33 GMT',\n",
       "   'etag': '\"191f93c9c0c3da637b5415d489f7d00b\"',\n",
       "   'server': 'AmazonS3',\n",
       "   'x-amz-id-2': 'Iu4c2GY6lS08HRfk1ckzeeoNknPyCexNgKjxE4QVPREcMRGMWvkZaS1mj0RGayaS5gJGHitGX3U=',\n",
       "   'x-amz-request-id': '73F1C621419D5C29'},\n",
       "  'HTTPStatusCode': 200,\n",
       "  'HostId': 'Iu4c2GY6lS08HRfk1ckzeeoNknPyCexNgKjxE4QVPREcMRGMWvkZaS1mj0RGayaS5gJGHitGX3U=',\n",
       "  'RequestId': '73F1C621419D5C29',\n",
       "  'RetryAttempts': 0}}"
      ]
     },
     "execution_count": 6,
     "metadata": {},
     "output_type": "execute_result"
    }
   ],
   "source": [
    "client.put_object(Bucket=\"pictureweb\", Key=\"s3_range_test/test\", Body=bio.getvalue())"
   ]
  },
  {
   "cell_type": "code",
   "execution_count": 7,
   "metadata": {},
   "outputs": [],
   "source": [
    "def get_row_slow(row_idx):\n",
    "    X = np.load(io.BytesIO(client.get_object(Bucket=\"pictureweb\", Key=\"s3_range_test/test\")[\"Body\"].read()))\n",
    "    return X[row_idx, :]"
   ]
  },
  {
   "cell_type": "code",
   "execution_count": 8,
   "metadata": {},
   "outputs": [],
   "source": [
    "i = 0"
   ]
  },
  {
   "cell_type": "code",
   "execution_count": 9,
   "metadata": {},
   "outputs": [],
   "source": [
    "t = time.time()\n",
    "row = get_row_slow(i)\n",
    "e = time.time()\n",
    "runtime_slow = e - t"
   ]
  },
  {
   "cell_type": "code",
   "execution_count": 10,
   "metadata": {},
   "outputs": [],
   "source": [
    "item_size = x.dtype.itemsize"
   ]
  },
  {
   "cell_type": "code",
   "execution_count": 11,
   "metadata": {},
   "outputs": [],
   "source": [
    "MAGIC_LEN = 6\n",
    "VERSION = 1\n",
    "HEADER_LEN_SIZE = 2\n",
    "HEADER_LEN_START = 8\n",
    "HEADER_LEN_END = 9\n",
    "HEADER_START = 10\n"
   ]
  },
  {
   "cell_type": "code",
   "execution_count": 12,
   "metadata": {},
   "outputs": [],
   "source": [
    "def get_item_fast(row_idx, col_idx, num_columns, dtype):\n",
    "    get_row_fast(row_idx, num_columns, dtype)[col_idx]\n",
    "   \n",
    "\n"
   ]
  },
  {
   "cell_type": "code",
   "execution_count": 88,
   "metadata": {},
   "outputs": [],
   "source": [
    "def get_row_fast(row_idx, num_columns, dtype):\n",
    "    client = boto3.client('s3')\n",
    "    range_query = 'bytes={0}-{1}'.format(HEADER_LEN_START, HEADER_LEN_END)\n",
    "    header_len_bytes = client.get_object(Bucket=\"pictureweb\", Key=\"s3_range_test/test\", Range=range_query)[\"Body\"].read()\n",
    "    #header_bytes = struct.unpack(\"<H\", header_len_bytes)[0]\n",
    "    header_bytes = 118\n",
    "    row_start = row_idx*(item_size * num_columns)\n",
    "    row_end = (row_idx+1)*((item_size ) * num_columns) - 1\n",
    "    query_start = HEADER_START + header_bytes + row_start\n",
    "    query_end = HEADER_START + header_bytes + row_end\n",
    "    range_query = 'bytes={0}-{1}'.format(query_start, query_end)\n",
    "    row_bytes = client.get_object(Bucket=\"pictureweb\", Key=\"s3_range_test/test\", Range=range_query)[\"Body\"].read()\n",
    "    return np.frombuffer(row_bytes, dtype=dtype)\n",
    "    \n",
    "\n",
    "\n",
    "\n",
    "\n"
   ]
  },
  {
   "cell_type": "code",
   "execution_count": 14,
   "metadata": {},
   "outputs": [
    {
     "name": "stdout",
     "output_type": "stream",
     "text": [
      "30.5 ms ± 4.2 ms per loop (mean ± std. dev. of 7 runs, 10 loops each)\n"
     ]
    }
   ],
   "source": [
    "%timeit a = get_row_fast(8, x.shape[1], x.dtype)"
   ]
  },
  {
   "cell_type": "code",
   "execution_count": 15,
   "metadata": {},
   "outputs": [
    {
     "name": "stdout",
     "output_type": "stream",
     "text": [
      "1.44 s ± 381 µs per loop (mean ± std. dev. of 7 runs, 1 loop each)\n"
     ]
    }
   ],
   "source": [
    "%timeit b = get_row_slow(8)"
   ]
  },
  {
   "cell_type": "code",
   "execution_count": 16,
   "metadata": {},
   "outputs": [
    {
     "name": "stdout",
     "output_type": "stream",
     "text": [
      "CPU times: user 4 ms, sys: 0 ns, total: 4 ms\n",
      "Wall time: 32.3 ms\n"
     ]
    }
   ],
   "source": [
    "%time a = get_item_fast(8, 8, x.shape[1], x.dtype)"
   ]
  },
  {
   "cell_type": "code",
   "execution_count": 18,
   "metadata": {},
   "outputs": [],
   "source": [
    "import concurrent.futures as fs\n"
   ]
  },
  {
   "cell_type": "code",
   "execution_count": 45,
   "metadata": {},
   "outputs": [],
   "source": []
  },
  {
   "cell_type": "code",
   "execution_count": 100,
   "metadata": {},
   "outputs": [],
   "source": [
    "def get_rows(rows):\n",
    "    t = time.time()\n",
    "    executor = fs.ThreadPoolExecutor(128)\n",
    "    futures = []\n",
    "    for i in rows:\n",
    "        futures.append(executor.submit(lambda : get_row_fast(i, x.shape[1], x.dtype)))\n",
    "    fs.wait(futures)\n",
    "    res = np.vstack([f.result() for f in futures])\n",
    "    e = time.time()\n",
    "    return e - t\n",
    "    "
   ]
  },
  {
   "cell_type": "code",
   "execution_count": 101,
   "metadata": {},
   "outputs": [
    {
     "name": "stdout",
     "output_type": "stream",
     "text": [
      "CPU times: user 1min 30s, sys: 3.53 s, total: 1min 34s\n",
      "Wall time: 1min\n"
     ]
    },
    {
     "data": {
      "text/plain": [
       "60.422529220581055"
      ]
     },
     "execution_count": 101,
     "metadata": {},
     "output_type": "execute_result"
    }
   ],
   "source": [
    "%time get_rows(range(4096))"
   ]
  },
  {
   "cell_type": "code",
   "execution_count": 65,
   "metadata": {},
   "outputs": [],
   "source": [
    "import pywren"
   ]
  },
  {
   "cell_type": "code",
   "execution_count": 66,
   "metadata": {},
   "outputs": [],
   "source": [
    "pwex  = pywren.default_executor()"
   ]
  },
  {
   "cell_type": "code",
   "execution_count": 70,
   "metadata": {},
   "outputs": [],
   "source": [
    "def chunks(l, n):\n",
    "    \"\"\"Yield successive n-sized chunks from l.\"\"\"\n",
    "    for i in range(0, len(l), n):\n",
    "        yield l[i:i + n]\n"
   ]
  },
  {
   "cell_type": "code",
   "execution_count": 94,
   "metadata": {},
   "outputs": [],
   "source": [
    "lst = list(chunks(range(4096), 16))"
   ]
  },
  {
   "cell_type": "code",
   "execution_count": 95,
   "metadata": {},
   "outputs": [
    {
     "name": "stdout",
     "output_type": "stream",
     "text": [
      "['/home/ubuntu/anaconda3/lib/python3.6/site-packages/colorama', '/home/ubuntu/anaconda3/lib/python3.6/site-packages/tornado', '/home/ubuntu/pywren/pywren', '/home/ubuntu/anaconda3/lib/python3.6/site-packages/watchtower']\n"
     ]
    }
   ],
   "source": [
    "futures = pwex.map(get_rows, range)"
   ]
  },
  {
   "cell_type": "code",
   "execution_count": 96,
   "metadata": {},
   "outputs": [
    {
     "data": {
      "text/plain": [
       "([<pywren.future.ResponseFuture at 0x7f71645bb048>,\n",
       "  <pywren.future.ResponseFuture at 0x7f71645d9780>,\n",
       "  <pywren.future.ResponseFuture at 0x7f71444f5128>,\n",
       "  <pywren.future.ResponseFuture at 0x7f71443a0ef0>,\n",
       "  <pywren.future.ResponseFuture at 0x7f70a46a7ef0>,\n",
       "  <pywren.future.ResponseFuture at 0x7f71645d1a20>,\n",
       "  <pywren.future.ResponseFuture at 0x7f71645eb828>,\n",
       "  <pywren.future.ResponseFuture at 0x7f716441b0b8>,\n",
       "  <pywren.future.ResponseFuture at 0x7f71644a6470>,\n",
       "  <pywren.future.ResponseFuture at 0x7f71c99c3ba8>,\n",
       "  <pywren.future.ResponseFuture at 0x7f716442cba8>,\n",
       "  <pywren.future.ResponseFuture at 0x7f71444f5780>,\n",
       "  <pywren.future.ResponseFuture at 0x7f71645601d0>,\n",
       "  <pywren.future.ResponseFuture at 0x7f70a46a7470>,\n",
       "  <pywren.future.ResponseFuture at 0x7f716451ff60>,\n",
       "  <pywren.future.ResponseFuture at 0x7f71444f54e0>,\n",
       "  <pywren.future.ResponseFuture at 0x7f71244104a8>,\n",
       "  <pywren.future.ResponseFuture at 0x7f716441ddd8>,\n",
       "  <pywren.future.ResponseFuture at 0x7f716441bc18>,\n",
       "  <pywren.future.ResponseFuture at 0x7f716456cc88>,\n",
       "  <pywren.future.ResponseFuture at 0x7f7164426438>,\n",
       "  <pywren.future.ResponseFuture at 0x7f71b77e0518>,\n",
       "  <pywren.future.ResponseFuture at 0x7f71645d9cc0>,\n",
       "  <pywren.future.ResponseFuture at 0x7f71645c5908>,\n",
       "  <pywren.future.ResponseFuture at 0x7f71bc056518>,\n",
       "  <pywren.future.ResponseFuture at 0x7f716442c128>,\n",
       "  <pywren.future.ResponseFuture at 0x7f71645c5d68>,\n",
       "  <pywren.future.ResponseFuture at 0x7f71644a6ef0>,\n",
       "  <pywren.future.ResponseFuture at 0x7f71645433c8>,\n",
       "  <pywren.future.ResponseFuture at 0x7f71b7772a58>,\n",
       "  <pywren.future.ResponseFuture at 0x7f71644a6e80>,\n",
       "  <pywren.future.ResponseFuture at 0x7f71c99e5b38>,\n",
       "  <pywren.future.ResponseFuture at 0x7f71b77c5588>,\n",
       "  <pywren.future.ResponseFuture at 0x7f71644044a8>,\n",
       "  <pywren.future.ResponseFuture at 0x7f71645eb5f8>,\n",
       "  <pywren.future.ResponseFuture at 0x7f71645dd0b8>,\n",
       "  <pywren.future.ResponseFuture at 0x7f71443b2048>,\n",
       "  <pywren.future.ResponseFuture at 0x7f71644a6be0>,\n",
       "  <pywren.future.ResponseFuture at 0x7f716451ff28>,\n",
       "  <pywren.future.ResponseFuture at 0x7f71443a0358>,\n",
       "  <pywren.future.ResponseFuture at 0x7f71645bbeb8>,\n",
       "  <pywren.future.ResponseFuture at 0x7f71645eb4a8>,\n",
       "  <pywren.future.ResponseFuture at 0x7f71645bb208>,\n",
       "  <pywren.future.ResponseFuture at 0x7f71645f3a20>,\n",
       "  <pywren.future.ResponseFuture at 0x7f71245d3630>,\n",
       "  <pywren.future.ResponseFuture at 0x7f71644a6160>,\n",
       "  <pywren.future.ResponseFuture at 0x7f716419aa20>,\n",
       "  <pywren.future.ResponseFuture at 0x7f71443a0550>,\n",
       "  <pywren.future.ResponseFuture at 0x7f71c99c3208>,\n",
       "  <pywren.future.ResponseFuture at 0x7f7164125160>,\n",
       "  <pywren.future.ResponseFuture at 0x7f71645d1470>,\n",
       "  <pywren.future.ResponseFuture at 0x7f7164125128>,\n",
       "  <pywren.future.ResponseFuture at 0x7f71645e93c8>,\n",
       "  <pywren.future.ResponseFuture at 0x7f71443a0e10>,\n",
       "  <pywren.future.ResponseFuture at 0x7f71c99a5908>,\n",
       "  <pywren.future.ResponseFuture at 0x7f71c9a462e8>,\n",
       "  <pywren.future.ResponseFuture at 0x7f716442c668>,\n",
       "  <pywren.future.ResponseFuture at 0x7f71640fc358>,\n",
       "  <pywren.future.ResponseFuture at 0x7f71244106d8>,\n",
       "  <pywren.future.ResponseFuture at 0x7f70a46a7cf8>,\n",
       "  <pywren.future.ResponseFuture at 0x7f71c9a0a9e8>,\n",
       "  <pywren.future.ResponseFuture at 0x7f71645eb128>,\n",
       "  <pywren.future.ResponseFuture at 0x7f71c99c34e0>,\n",
       "  <pywren.future.ResponseFuture at 0x7f71bc056668>,\n",
       "  <pywren.future.ResponseFuture at 0x7f716421f6a0>,\n",
       "  <pywren.future.ResponseFuture at 0x7f716441bc88>,\n",
       "  <pywren.future.ResponseFuture at 0x7f71645c5978>,\n",
       "  <pywren.future.ResponseFuture at 0x7f71645f3c18>,\n",
       "  <pywren.future.ResponseFuture at 0x7f7124410278>,\n",
       "  <pywren.future.ResponseFuture at 0x7f716441b748>,\n",
       "  <pywren.future.ResponseFuture at 0x7f71645f3828>,\n",
       "  <pywren.future.ResponseFuture at 0x7f71b7732a90>,\n",
       "  <pywren.future.ResponseFuture at 0x7f7164165358>,\n",
       "  <pywren.future.ResponseFuture at 0x7f71645eb978>,\n",
       "  <pywren.future.ResponseFuture at 0x7f7164404438>,\n",
       "  <pywren.future.ResponseFuture at 0x7f716421f160>,\n",
       "  <pywren.future.ResponseFuture at 0x7f71645eedd8>,\n",
       "  <pywren.future.ResponseFuture at 0x7f71645c5358>,\n",
       "  <pywren.future.ResponseFuture at 0x7f7124410898>,\n",
       "  <pywren.future.ResponseFuture at 0x7f7144211ba8>,\n",
       "  <pywren.future.ResponseFuture at 0x7f716421ff98>,\n",
       "  <pywren.future.ResponseFuture at 0x7f71645e94a8>,\n",
       "  <pywren.future.ResponseFuture at 0x7f716419a198>,\n",
       "  <pywren.future.ResponseFuture at 0x7f71b777a5c0>,\n",
       "  <pywren.future.ResponseFuture at 0x7f71645ebc50>,\n",
       "  <pywren.future.ResponseFuture at 0x7f7104424978>,\n",
       "  <pywren.future.ResponseFuture at 0x7f71b776b128>,\n",
       "  <pywren.future.ResponseFuture at 0x7f71443a04a8>,\n",
       "  <pywren.future.ResponseFuture at 0x7f71645eb3c8>,\n",
       "  <pywren.future.ResponseFuture at 0x7f716441df98>,\n",
       "  <pywren.future.ResponseFuture at 0x7f71c9a0a550>,\n",
       "  <pywren.future.ResponseFuture at 0x7f71645f3b38>,\n",
       "  <pywren.future.ResponseFuture at 0x7f716421f9b0>,\n",
       "  <pywren.future.ResponseFuture at 0x7f71b777a198>,\n",
       "  <pywren.future.ResponseFuture at 0x7f71444f52e8>,\n",
       "  <pywren.future.ResponseFuture at 0x7f71c99c7390>,\n",
       "  <pywren.future.ResponseFuture at 0x7f71645ddf28>,\n",
       "  <pywren.future.ResponseFuture at 0x7f71645dd4a8>,\n",
       "  <pywren.future.ResponseFuture at 0x7f7164171898>,\n",
       "  <pywren.future.ResponseFuture at 0x7f71645f3e48>,\n",
       "  <pywren.future.ResponseFuture at 0x7f71645eb0f0>,\n",
       "  <pywren.future.ResponseFuture at 0x7f71443a06d8>,\n",
       "  <pywren.future.ResponseFuture at 0x7f716461fdd8>,\n",
       "  <pywren.future.ResponseFuture at 0x7f71b77c5c18>,\n",
       "  <pywren.future.ResponseFuture at 0x7f7104424b38>,\n",
       "  <pywren.future.ResponseFuture at 0x7f716420e438>,\n",
       "  <pywren.future.ResponseFuture at 0x7f71641259e8>,\n",
       "  <pywren.future.ResponseFuture at 0x7f716461fe48>,\n",
       "  <pywren.future.ResponseFuture at 0x7f71b77c5b38>,\n",
       "  <pywren.future.ResponseFuture at 0x7f71c99a54a8>,\n",
       "  <pywren.future.ResponseFuture at 0x7f716421f588>,\n",
       "  <pywren.future.ResponseFuture at 0x7f71044249b0>,\n",
       "  <pywren.future.ResponseFuture at 0x7f7164570c88>,\n",
       "  <pywren.future.ResponseFuture at 0x7f70a452c6a0>,\n",
       "  <pywren.future.ResponseFuture at 0x7f716421fac8>,\n",
       "  <pywren.future.ResponseFuture at 0x7f716419a908>,\n",
       "  <pywren.future.ResponseFuture at 0x7f7164165cf8>,\n",
       "  <pywren.future.ResponseFuture at 0x7f7104459208>,\n",
       "  <pywren.future.ResponseFuture at 0x7f716441bdd8>,\n",
       "  <pywren.future.ResponseFuture at 0x7f70a45c3a20>,\n",
       "  <pywren.future.ResponseFuture at 0x7f71442119e8>,\n",
       "  <pywren.future.ResponseFuture at 0x7f71645eb7f0>,\n",
       "  <pywren.future.ResponseFuture at 0x7f716441b7b8>,\n",
       "  <pywren.future.ResponseFuture at 0x7f71b777a6a0>,\n",
       "  <pywren.future.ResponseFuture at 0x7f716451fba8>,\n",
       "  <pywren.future.ResponseFuture at 0x7f7164560c88>,\n",
       "  <pywren.future.ResponseFuture at 0x7f71645d9128>,\n",
       "  <pywren.future.ResponseFuture at 0x7f71b7723400>,\n",
       "  <pywren.future.ResponseFuture at 0x7f71d2107f28>,\n",
       "  <pywren.future.ResponseFuture at 0x7f70a45c3128>,\n",
       "  <pywren.future.ResponseFuture at 0x7f70a45c3898>,\n",
       "  <pywren.future.ResponseFuture at 0x7f71443a03c8>,\n",
       "  <pywren.future.ResponseFuture at 0x7f70a45c3710>,\n",
       "  <pywren.future.ResponseFuture at 0x7f71044590b8>,\n",
       "  <pywren.future.ResponseFuture at 0x7f71443a0390>,\n",
       "  <pywren.future.ResponseFuture at 0x7f7164560ac8>,\n",
       "  <pywren.future.ResponseFuture at 0x7f7164570668>,\n",
       "  <pywren.future.ResponseFuture at 0x7f71c9a0ae10>,\n",
       "  <pywren.future.ResponseFuture at 0x7f716461fc88>,\n",
       "  <pywren.future.ResponseFuture at 0x7f71643d1c18>,\n",
       "  <pywren.future.ResponseFuture at 0x7f71443b2128>,\n",
       "  <pywren.future.ResponseFuture at 0x7f70a46a7f28>,\n",
       "  <pywren.future.ResponseFuture at 0x7f7164570240>,\n",
       "  <pywren.future.ResponseFuture at 0x7f71c9a0a470>,\n",
       "  <pywren.future.ResponseFuture at 0x7f7164228f60>,\n",
       "  <pywren.future.ResponseFuture at 0x7f71640fc7b8>,\n",
       "  <pywren.future.ResponseFuture at 0x7f7104459a90>,\n",
       "  <pywren.future.ResponseFuture at 0x7f7164560da0>,\n",
       "  <pywren.future.ResponseFuture at 0x7f70a46a7be0>,\n",
       "  <pywren.future.ResponseFuture at 0x7f71645eb048>,\n",
       "  <pywren.future.ResponseFuture at 0x7f71c998e898>,\n",
       "  <pywren.future.ResponseFuture at 0x7f70a45c3be0>,\n",
       "  <pywren.future.ResponseFuture at 0x7f71c9a025f8>,\n",
       "  <pywren.future.ResponseFuture at 0x7f71044590f0>,\n",
       "  <pywren.future.ResponseFuture at 0x7f7164165f98>,\n",
       "  <pywren.future.ResponseFuture at 0x7f71c9a022e8>,\n",
       "  <pywren.future.ResponseFuture at 0x7f71044597f0>,\n",
       "  <pywren.future.ResponseFuture at 0x7f716437d9b0>,\n",
       "  <pywren.future.ResponseFuture at 0x7f7164545d30>,\n",
       "  <pywren.future.ResponseFuture at 0x7f71447aad30>,\n",
       "  <pywren.future.ResponseFuture at 0x7f70a46a77b8>,\n",
       "  <pywren.future.ResponseFuture at 0x7f7164588e10>,\n",
       "  <pywren.future.ResponseFuture at 0x7f7164208f98>,\n",
       "  <pywren.future.ResponseFuture at 0x7f716419a5f8>,\n",
       "  <pywren.future.ResponseFuture at 0x7f71645d95f8>,\n",
       "  <pywren.future.ResponseFuture at 0x7f716451fb38>,\n",
       "  <pywren.future.ResponseFuture at 0x7f70a46a7048>,\n",
       "  <pywren.future.ResponseFuture at 0x7f71645dd908>,\n",
       "  <pywren.future.ResponseFuture at 0x7f71641a6ba8>,\n",
       "  <pywren.future.ResponseFuture at 0x7f70a46a79e8>,\n",
       "  <pywren.future.ResponseFuture at 0x7f7164570860>,\n",
       "  <pywren.future.ResponseFuture at 0x7f716442cdd8>,\n",
       "  <pywren.future.ResponseFuture at 0x7f7164560e80>,\n",
       "  <pywren.future.ResponseFuture at 0x7f71c99c7c18>,\n",
       "  <pywren.future.ResponseFuture at 0x7f71640fc978>,\n",
       "  <pywren.future.ResponseFuture at 0x7f70a43b9d68>,\n",
       "  <pywren.future.ResponseFuture at 0x7f7164125ac8>,\n",
       "  <pywren.future.ResponseFuture at 0x7f71c9a46b70>,\n",
       "  <pywren.future.ResponseFuture at 0x7f7164165438>,\n",
       "  <pywren.future.ResponseFuture at 0x7f7164125ba8>,\n",
       "  <pywren.future.ResponseFuture at 0x7f71645e9860>,\n",
       "  <pywren.future.ResponseFuture at 0x7f716437d630>,\n",
       "  <pywren.future.ResponseFuture at 0x7f71644a6240>,\n",
       "  <pywren.future.ResponseFuture at 0x7f716437d780>,\n",
       "  <pywren.future.ResponseFuture at 0x7f71644a6e10>,\n",
       "  <pywren.future.ResponseFuture at 0x7f708471ebe0>,\n",
       "  <pywren.future.ResponseFuture at 0x7f71443a07b8>,\n",
       "  <pywren.future.ResponseFuture at 0x7f716456c908>,\n",
       "  <pywren.future.ResponseFuture at 0x7f716437def0>,\n",
       "  <pywren.future.ResponseFuture at 0x7f71643d1e80>,\n",
       "  <pywren.future.ResponseFuture at 0x7f7164560a20>,\n",
       "  <pywren.future.ResponseFuture at 0x7f7084734dd8>,\n",
       "  <pywren.future.ResponseFuture at 0x7f71645a4048>,\n",
       "  <pywren.future.ResponseFuture at 0x7f71643a5e48>,\n",
       "  <pywren.future.ResponseFuture at 0x7f716449f080>,\n",
       "  <pywren.future.ResponseFuture at 0x7f71643d1cc0>,\n",
       "  <pywren.future.ResponseFuture at 0x7f70a456e828>,\n",
       "  <pywren.future.ResponseFuture at 0x7f7104459b00>,\n",
       "  <pywren.future.ResponseFuture at 0x7f716419a7b8>,\n",
       "  <pywren.future.ResponseFuture at 0x7f716420e748>,\n",
       "  <pywren.future.ResponseFuture at 0x7f70a456e128>,\n",
       "  <pywren.future.ResponseFuture at 0x7f71d2107f98>,\n",
       "  <pywren.future.ResponseFuture at 0x7f7084734e10>,\n",
       "  <pywren.future.ResponseFuture at 0x7f71641257b8>,\n",
       "  <pywren.future.ResponseFuture at 0x7f71644a6a90>,\n",
       "  <pywren.future.ResponseFuture at 0x7f71b77286a0>,\n",
       "  <pywren.future.ResponseFuture at 0x7f716441dc18>,\n",
       "  <pywren.future.ResponseFuture at 0x7f7164228dd8>,\n",
       "  <pywren.future.ResponseFuture at 0x7f71c9a46780>,\n",
       "  <pywren.future.ResponseFuture at 0x7f71640fca90>,\n",
       "  <pywren.future.ResponseFuture at 0x7f716437d8d0>,\n",
       "  <pywren.future.ResponseFuture at 0x7f71641a6128>,\n",
       "  <pywren.future.ResponseFuture at 0x7f7164570978>,\n",
       "  <pywren.future.ResponseFuture at 0x7f716449f1d0>,\n",
       "  <pywren.future.ResponseFuture at 0x7f71644ad4e0>,\n",
       "  <pywren.future.ResponseFuture at 0x7f70a452c7f0>,\n",
       "  <pywren.future.ResponseFuture at 0x7f716420e358>,\n",
       "  <pywren.future.ResponseFuture at 0x7f71044592b0>,\n",
       "  <pywren.future.ResponseFuture at 0x7f7164539dd8>,\n",
       "  <pywren.future.ResponseFuture at 0x7f7164547208>,\n",
       "  <pywren.future.ResponseFuture at 0x7f71645d95c0>,\n",
       "  <pywren.future.ResponseFuture at 0x7f71645bb9e8>,\n",
       "  <pywren.future.ResponseFuture at 0x7f71644ad630>,\n",
       "  <pywren.future.ResponseFuture at 0x7f7164125f28>,\n",
       "  <pywren.future.ResponseFuture at 0x7f71c99c7d68>,\n",
       "  <pywren.future.ResponseFuture at 0x7f70a452cfd0>,\n",
       "  <pywren.future.ResponseFuture at 0x7f716437ea58>,\n",
       "  <pywren.future.ResponseFuture at 0x7f708471ee80>,\n",
       "  <pywren.future.ResponseFuture at 0x7f7164404668>,\n",
       "  <pywren.future.ResponseFuture at 0x7f71642089e8>,\n",
       "  <pywren.future.ResponseFuture at 0x7f71644adbe0>,\n",
       "  <pywren.future.ResponseFuture at 0x7f71c9a08908>,\n",
       "  <pywren.future.ResponseFuture at 0x7f7084734048>,\n",
       "  <pywren.future.ResponseFuture at 0x7f71b77284a8>,\n",
       "  <pywren.future.ResponseFuture at 0x7f7164404c88>,\n",
       "  <pywren.future.ResponseFuture at 0x7f7164208d30>,\n",
       "  <pywren.future.ResponseFuture at 0x7f71641652b0>,\n",
       "  <pywren.future.ResponseFuture at 0x7f70a45e88d0>,\n",
       "  <pywren.future.ResponseFuture at 0x7f71645eb9e8>,\n",
       "  <pywren.future.ResponseFuture at 0x7f71c99a2ef0>,\n",
       "  <pywren.future.ResponseFuture at 0x7f716437dda0>,\n",
       "  <pywren.future.ResponseFuture at 0x7f71644adda0>,\n",
       "  <pywren.future.ResponseFuture at 0x7f7164547358>,\n",
       "  <pywren.future.ResponseFuture at 0x7f716449f160>,\n",
       "  <pywren.future.ResponseFuture at 0x7f71645bbe48>,\n",
       "  <pywren.future.ResponseFuture at 0x7f708471e0b8>,\n",
       "  <pywren.future.ResponseFuture at 0x7f716421fa58>,\n",
       "  <pywren.future.ResponseFuture at 0x7f708471e240>,\n",
       "  <pywren.future.ResponseFuture at 0x7f716437ecf8>,\n",
       "  <pywren.future.ResponseFuture at 0x7f71643a5fd0>,\n",
       "  <pywren.future.ResponseFuture at 0x7f71645607b8>,\n",
       "  <pywren.future.ResponseFuture at 0x7f716456cb38>,\n",
       "  <pywren.future.ResponseFuture at 0x7f71c9a0a9b0>,\n",
       "  <pywren.future.ResponseFuture at 0x7f71b777a208>,\n",
       "  <pywren.future.ResponseFuture at 0x7f71c9a0af60>,\n",
       "  <pywren.future.ResponseFuture at 0x7f71c99f0438>],\n",
       " [])"
      ]
     },
     "execution_count": 96,
     "metadata": {},
     "output_type": "execute_result"
    }
   ],
   "source": [
    "pywren.wait(futures)"
   ]
  },
  {
   "cell_type": "code",
   "execution_count": 98,
   "metadata": {},
   "outputs": [
    {
     "data": {
      "text/plain": [
       "[0.32804298400878906,\n",
       " 0.3072659969329834,\n",
       " 0.277820348739624,\n",
       " 0.28248047828674316,\n",
       " 0.44243383407592773,\n",
       " 0.44734978675842285,\n",
       " 0.3330690860748291,\n",
       " 0.306105375289917,\n",
       " 0.34697723388671875,\n",
       " 0.33138489723205566,\n",
       " 0.5544228553771973,\n",
       " 0.34020113945007324,\n",
       " 0.3995974063873291,\n",
       " 0.31685447692871094,\n",
       " 0.46636366844177246,\n",
       " 0.30583930015563965,\n",
       " 0.2819051742553711,\n",
       " 0.32329750061035156,\n",
       " 0.36934471130371094,\n",
       " 0.3593568801879883,\n",
       " 0.32886791229248047,\n",
       " 0.48513078689575195,\n",
       " 0.3755826950073242,\n",
       " 0.30182456970214844,\n",
       " 0.5377445220947266,\n",
       " 0.3144850730895996,\n",
       " 0.37277865409851074,\n",
       " 0.3159608840942383,\n",
       " 0.35961389541625977,\n",
       " 0.30127549171447754,\n",
       " 0.3126528263092041,\n",
       " 0.29050421714782715,\n",
       " 0.32579588890075684,\n",
       " 0.39255666732788086,\n",
       " 0.7942557334899902,\n",
       " 0.3411600589752197,\n",
       " 0.28508687019348145,\n",
       " 1.642347812652588,\n",
       " 0.2624175548553467,\n",
       " 0.38858890533447266,\n",
       " 0.3413522243499756,\n",
       " 0.5189940929412842,\n",
       " 0.26237940788269043,\n",
       " 0.6211884021759033,\n",
       " 0.31998300552368164,\n",
       " 0.6526455879211426,\n",
       " 0.30422186851501465,\n",
       " 0.37854433059692383,\n",
       " 0.26636767387390137,\n",
       " 0.5511898994445801,\n",
       " 0.40683460235595703,\n",
       " 0.36211442947387695,\n",
       " 0.579064130783081,\n",
       " 0.36760449409484863,\n",
       " 0.3688058853149414,\n",
       " 0.6911225318908691,\n",
       " 0.29868531227111816,\n",
       " 0.319857120513916,\n",
       " 0.551774263381958,\n",
       " 0.39202117919921875,\n",
       " 0.37126731872558594,\n",
       " 0.9569370746612549,\n",
       " 0.28653383255004883,\n",
       " 0.7728607654571533,\n",
       " 0.4326636791229248,\n",
       " 0.36617279052734375,\n",
       " 0.4201381206512451,\n",
       " 0.29389405250549316,\n",
       " 0.47173476219177246,\n",
       " 0.2655165195465088,\n",
       " 0.4061160087585449,\n",
       " 0.2814321517944336,\n",
       " 0.289931058883667,\n",
       " 0.3106110095977783,\n",
       " 0.2668333053588867,\n",
       " 0.5476288795471191,\n",
       " 0.5873136520385742,\n",
       " 0.33307480812072754,\n",
       " 0.35610222816467285,\n",
       " 0.302079439163208,\n",
       " 0.36568498611450195,\n",
       " 0.3564271926879883,\n",
       " 0.3298623561859131,\n",
       " 0.26844191551208496,\n",
       " 0.3217785358428955,\n",
       " 0.5561907291412354,\n",
       " 0.3497161865234375,\n",
       " 0.37262558937072754,\n",
       " 0.32500624656677246,\n",
       " 0.3841676712036133,\n",
       " 0.4654970169067383,\n",
       " 0.3832249641418457,\n",
       " 0.35106492042541504,\n",
       " 0.718066930770874,\n",
       " 0.3261680603027344,\n",
       " 0.3918311595916748,\n",
       " 0.4709889888763428,\n",
       " 0.47193408012390137,\n",
       " 1.1347894668579102,\n",
       " 0.3724939823150635,\n",
       " 0.3260006904602051,\n",
       " 0.3048574924468994,\n",
       " 0.2460496425628662,\n",
       " 0.2798502445220947,\n",
       " 0.47520923614501953,\n",
       " 1.002753734588623,\n",
       " 0.5112602710723877,\n",
       " 0.5095474720001221,\n",
       " 0.4452953338623047,\n",
       " 0.46212172508239746,\n",
       " 0.2974817752838135,\n",
       " 0.6470334529876709,\n",
       " 0.48006653785705566,\n",
       " 0.25220441818237305,\n",
       " 0.6160967350006104,\n",
       " 0.5924990177154541,\n",
       " 0.30402374267578125,\n",
       " 0.36394262313842773,\n",
       " 0.3082900047302246,\n",
       " 0.3163418769836426,\n",
       " 0.3355109691619873,\n",
       " 0.3007164001464844,\n",
       " 0.2935190200805664,\n",
       " 0.37403011322021484,\n",
       " 0.3576014041900635,\n",
       " 0.27515482902526855,\n",
       " 0.26336097717285156,\n",
       " 0.32349586486816406,\n",
       " 0.4490787982940674,\n",
       " 0.2969095706939697,\n",
       " 0.314197301864624,\n",
       " 0.3262307643890381,\n",
       " 0.43950390815734863,\n",
       " 0.31813669204711914,\n",
       " 0.37635159492492676,\n",
       " 0.672377347946167,\n",
       " 0.7427356243133545,\n",
       " 0.25783562660217285,\n",
       " 0.300553560256958,\n",
       " 1.2041144371032715,\n",
       " 0.32230305671691895,\n",
       " 0.28550076484680176,\n",
       " 0.47696447372436523,\n",
       " 0.28345465660095215,\n",
       " 0.30459070205688477,\n",
       " 0.6459264755249023,\n",
       " 0.29868006706237793,\n",
       " 0.2988464832305908,\n",
       " 0.29380154609680176,\n",
       " 0.28957629203796387,\n",
       " 0.3470497131347656,\n",
       " 0.30414485931396484,\n",
       " 0.3446645736694336,\n",
       " 0.7631204128265381,\n",
       " 0.3272852897644043,\n",
       " 0.46853208541870117,\n",
       " 0.8461642265319824,\n",
       " 1.2718017101287842,\n",
       " 0.3027157783508301,\n",
       " 0.34795641899108887,\n",
       " 0.4958970546722412,\n",
       " 0.6815166473388672,\n",
       " 0.33472609519958496,\n",
       " 0.2757599353790283,\n",
       " 0.2750866413116455,\n",
       " 0.30081939697265625,\n",
       " 0.34812307357788086,\n",
       " 0.3188779354095459,\n",
       " 0.2843668460845947,\n",
       " 0.3662221431732178,\n",
       " 0.3076188564300537,\n",
       " 0.3108816146850586,\n",
       " 0.30380892753601074,\n",
       " 0.2923109531402588,\n",
       " 0.32643890380859375,\n",
       " 0.27765345573425293,\n",
       " 0.28360748291015625,\n",
       " 0.2951340675354004,\n",
       " 0.36391210556030273,\n",
       " 0.4981822967529297,\n",
       " 0.3427548408508301,\n",
       " 0.36514711380004883,\n",
       " 0.31135129928588867,\n",
       " 0.29727959632873535,\n",
       " 0.2961859703063965,\n",
       " 0.3793175220489502,\n",
       " 0.31142616271972656,\n",
       " 0.4780459403991699,\n",
       " 0.3041958808898926,\n",
       " 0.2882075309753418,\n",
       " 0.8102831840515137,\n",
       " 0.28595900535583496,\n",
       " 0.3045370578765869,\n",
       " 0.3444364070892334,\n",
       " 0.30207133293151855,\n",
       " 0.2886619567871094,\n",
       " 0.2904086112976074,\n",
       " 0.40215110778808594,\n",
       " 0.31619811058044434,\n",
       " 0.2915530204772949,\n",
       " 0.304898738861084,\n",
       " 0.33695244789123535,\n",
       " 0.3618767261505127,\n",
       " 1.2035529613494873,\n",
       " 0.3241431713104248,\n",
       " 1.0482685565948486,\n",
       " 0.2961461544036865,\n",
       " 0.32230520248413086,\n",
       " 0.311748743057251,\n",
       " 0.804541826248169,\n",
       " 0.306699275970459,\n",
       " 0.29132986068725586,\n",
       " 0.3436858654022217,\n",
       " 0.3075544834136963,\n",
       " 0.3358151912689209,\n",
       " 0.33290624618530273,\n",
       " 0.2904524803161621,\n",
       " 0.30813050270080566,\n",
       " 0.30812573432922363,\n",
       " 0.6339724063873291,\n",
       " 0.28299927711486816,\n",
       " 0.6827847957611084,\n",
       " 0.35996532440185547,\n",
       " 0.2925264835357666,\n",
       " 0.54848313331604,\n",
       " 0.2550492286682129,\n",
       " 0.3671538829803467,\n",
       " 0.3739950656890869,\n",
       " 0.3075268268585205,\n",
       " 0.309842586517334,\n",
       " 0.31468629837036133,\n",
       " 0.29013705253601074,\n",
       " 1.3591945171356201,\n",
       " 0.2788405418395996,\n",
       " 0.25069212913513184,\n",
       " 0.3231959342956543,\n",
       " 0.2996203899383545,\n",
       " 0.30454397201538086,\n",
       " 0.3427004814147949,\n",
       " 0.28432393074035645,\n",
       " 1.2179856300354004,\n",
       " 0.2888815402984619,\n",
       " 0.396420955657959,\n",
       " 0.8233542442321777,\n",
       " 0.546314001083374,\n",
       " 0.4449496269226074,\n",
       " 0.2886497974395752,\n",
       " 0.3439183235168457,\n",
       " 0.2548491954803467,\n",
       " 0.3098454475402832,\n",
       " 0.29794979095458984,\n",
       " 0.2938539981842041,\n",
       " 0.3031787872314453,\n",
       " 0.2992117404937744,\n",
       " 0.32108020782470703,\n",
       " 0.3898956775665283]"
      ]
     },
     "execution_count": 98,
     "metadata": {},
     "output_type": "execute_result"
    }
   ],
   "source": [
    "[f.result() for f in futures]"
   ]
  },
  {
   "cell_type": "code",
   "execution_count": 83,
   "metadata": {},
   "outputs": [
    {
     "name": "stdout",
     "output_type": "stream",
     "text": [
      "CPU times: user 92 ms, sys: 4 ms, total: 96 ms\n",
      "Wall time: 97.5 ms\n"
     ]
    },
    {
     "data": {
      "text/plain": [
       "(array([[ 0.11357731,  0.21427875, -1.38108335, ...,  1.47540535,\n",
       "         -1.39980345, -0.65518442],\n",
       "        [ 0.15538261, -1.27996024, -1.04730028, ...,  0.63813038,\n",
       "         -1.85526051,  0.2404578 ],\n",
       "        [-1.40400004,  2.00847743, -0.04091358, ...,  0.66809395,\n",
       "          0.32882512,  1.25866877],\n",
       "        ...,\n",
       "        [-0.94636264,  0.55736169, -0.44246253, ..., -1.04592457,\n",
       "         -2.04484424,  0.16158721],\n",
       "        [-0.09611194, -1.04524684,  0.76906967, ..., -0.28674769,\n",
       "          1.02876332,  0.90276076],\n",
       "        [-1.67893734,  0.44290122,  0.53214168, ...,  0.19703435,\n",
       "          0.92653744,  0.4308833 ]]), 0.09736990928649902)"
      ]
     },
     "execution_count": 83,
     "metadata": {},
     "output_type": "execute_result"
    }
   ],
   "source": [
    "%time get_rows(lst[0])"
   ]
  },
  {
   "cell_type": "code",
   "execution_count": 84,
   "metadata": {},
   "outputs": [
    {
     "data": {
      "text/plain": [
       "256"
      ]
     },
     "execution_count": 84,
     "metadata": {},
     "output_type": "execute_result"
    }
   ],
   "source": [
    "len(lst)"
   ]
  },
  {
   "cell_type": "code",
   "execution_count": null,
   "metadata": {},
   "outputs": [],
   "source": []
  }
 ],
 "metadata": {
  "kernelspec": {
   "display_name": "Python 3",
   "language": "python",
   "name": "python3"
  },
  "language_info": {
   "codemirror_mode": {
    "name": "ipython",
    "version": 3
   },
   "file_extension": ".py",
   "mimetype": "text/x-python",
   "name": "python",
   "nbconvert_exporter": "python",
   "pygments_lexer": "ipython3",
   "version": "3.6.4"
  }
 },
 "nbformat": 4,
 "nbformat_minor": 2
}
