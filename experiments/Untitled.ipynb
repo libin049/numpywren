{
 "cells": [
  {
   "cell_type": "code",
   "execution_count": 1,
   "metadata": {},
   "outputs": [],
   "source": [
    "import sklearn.datasets as datasets\n",
    "from numpywren.matrix import BigMatrix\n",
    "from numpywren import matrix_utils, binops\n",
    "from numpywren.matrix_init import local_numpy_init\n",
    "import pytest\n",
    "import numpy as np\n",
    "import pywren\n",
    "import unittest\n",
    "\n",
    "\n",
    "X = np.random.randn(128,128)\n",
    "X_sharded = local_numpy_init(X, X.shape)\n",
    "local_numpy_init(X, shard_sizes=X.shape)\n",
    "X_sharded_local = X_sharded.numpy()\n",
    "X_sharded.free()\n",
    "assert(np.all(X_sharded_local == X))"
   ]
  },
  {
   "cell_type": "code",
   "execution_count": null,
   "metadata": {},
   "outputs": [],
   "source": []
  }
 ],
 "metadata": {
  "kernelspec": {
   "display_name": "Python 3",
   "language": "python",
   "name": "python3"
  },
  "language_info": {
   "codemirror_mode": {
    "name": "ipython",
    "version": 3
   },
   "file_extension": ".py",
   "mimetype": "text/x-python",
   "name": "python",
   "nbconvert_exporter": "python",
   "pygments_lexer": "ipython3",
   "version": "3.6.4"
  }
 },
 "nbformat": 4,
 "nbformat_minor": 2
}
