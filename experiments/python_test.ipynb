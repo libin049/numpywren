{
 "cells": [
  {
   "cell_type": "code",
   "execution_count": 1,
   "metadata": {},
   "outputs": [],
   "source": [
    "import concurrent.futures as fs\n",
    "import boto3\n",
    "import io\n",
    "import time\n",
    "import numpy as np\n",
    "import fcntl\n",
    "from multiprocessing import Process\n",
    "from multiprocessing import Process, Lock, Pipe"
   ]
  },
  {
   "cell_type": "code",
   "execution_count": 11,
   "metadata": {},
   "outputs": [],
   "source": [
    "def do_gemm(A,B, tid):\n",
    "    a = time.time()\n",
    "    for i in range(3):\n",
    "        C = A@B\n",
    "        pass\n",
    "    flops = 6*A.shape[0]*A.shape[1]*B.shape[1]\n",
    "    b = time.time()\n",
    "    flop_rate = flops/((b - a)*1e9)\n",
    "    return A, flops,a,b\n",
    "    \n",
    "def do_io_write(A, tid, shard_idx=0):\n",
    "    a = time.time()\n",
    "    client = boto3.client('s3', use_ssl=False)\n",
    "    size = A.nbytes\n",
    "    b = time.time()\n",
    "    #return size,a,b\n",
    "    bio = io.BytesIO()\n",
    "    np.save(bio,A)\n",
    "    key = \"iotest/read_{0}\".format(shard_idx)\n",
    "    z = client.put_object(Key=key, Bucket=\"numpywrennsdi\", Body=bio.getvalue())\n",
    "    b = time.time()\n",
    "    write_rate = size/((b - a) * 1e6)\n",
    "    return size,a,b\n",
    "\n",
    "def do_io_read(tid, shard_idx=0):\n",
    "    a = time.time()\n",
    "    client = boto3.client('s3', use_ssl=False)\n",
    "    key = \"iotest/read_{0}\".format(shard_idx)\n",
    "    data = client.get_object(Key=\"iotest/read_{0}\".format(shard_idx), Bucket=\"numpywrennsdi\")[\"Body\"].read()\n",
    "    bio = io.BytesIO(data)\n",
    "    A = np.load(bio)\n",
    "    size = A.nbytes\n",
    "    b = time.time()\n",
    "    read_rate = size/((b - a) * 1e6)\n",
    "    return A, size,a,b\n",
    "\n",
    "    \n",
    "    \n",
    "    "
   ]
  },
  {
   "cell_type": "code",
   "execution_count": 20,
   "metadata": {},
   "outputs": [],
   "source": [
    "A = np.random.randn(2048,2048)\n",
    "B = np.random.randn(2048,2048)"
   ]
  },
  {
   "cell_type": "code",
   "execution_count": 21,
   "metadata": {},
   "outputs": [
    {
     "data": {
      "text/plain": [
       "[(33554432, 1536873708.764491, 1536873709.6523652),\n",
       " (33554432, 1536873709.6525085, 1536873710.4407222),\n",
       " (33554432, 1536873710.440885, 1536873711.2443762),\n",
       " (33554432, 1536873711.2445364, 1536873712.1376617),\n",
       " (33554432, 1536873712.1378279, 1536873713.6444783),\n",
       " (33554432, 1536873713.6446466, 1536873714.5469077),\n",
       " (33554432, 1536873714.5470636, 1536873715.4008756),\n",
       " (33554432, 1536873715.401035, 1536873716.1841311),\n",
       " (33554432, 1536873716.1842916, 1536873717.1785047),\n",
       " (33554432, 1536873717.17867, 1536873718.1683908)]"
      ]
     },
     "execution_count": 21,
     "metadata": {},
     "output_type": "execute_result"
    }
   ],
   "source": [
    "[do_io_write(A, i) for i in range(10)]\n",
    "[do_io_write(B, i) for i in range(10)]"
   ]
  },
  {
   "cell_type": "code",
   "execution_count": 22,
   "metadata": {},
   "outputs": [
    {
     "data": {
      "text/plain": [
       "(33554432, 1536873718.1727538, 1536873719.0670383)"
      ]
     },
     "execution_count": 22,
     "metadata": {},
     "output_type": "execute_result"
    }
   ],
   "source": [
    "do_io_write(A, tid=0)"
   ]
  },
  {
   "cell_type": "code",
   "execution_count": 23,
   "metadata": {},
   "outputs": [
    {
     "data": {
      "text/plain": [
       "(array([[ 0.54439819,  1.58146251,  0.14308054, ...,  0.93741531,\n",
       "          1.77960052, -0.85412487],\n",
       "        [ 0.47763034,  0.75308372,  0.58645173, ...,  0.13248176,\n",
       "          0.2105735 , -0.58093845],\n",
       "        [-0.63553792,  0.89116859, -2.56674101, ..., -0.60674104,\n",
       "         -1.37955537, -0.44009287],\n",
       "        ...,\n",
       "        [-0.9220258 , -0.807776  , -1.09049624, ..., -0.11674078,\n",
       "         -0.50827568,  0.50610303],\n",
       "        [ 2.13321545,  0.45971677,  2.17183117, ...,  0.04117226,\n",
       "          0.62752621,  1.31219763],\n",
       "        [ 0.90021404,  1.07863819, -0.12881333, ...,  1.09205134,\n",
       "         -1.32029589, -2.91073616]]),\n",
       " 33554432,\n",
       " 1536873719.070914,\n",
       " 1536873719.4411883)"
      ]
     },
     "execution_count": 23,
     "metadata": {},
     "output_type": "execute_result"
    }
   ],
   "source": [
    "do_io_read(0)"
   ]
  },
  {
   "cell_type": "code",
   "execution_count": 26,
   "metadata": {},
   "outputs": [
    {
     "data": {
      "text/plain": [
       "(array([[ 0.54439819,  1.58146251,  0.14308054, ...,  0.93741531,\n",
       "          1.77960052, -0.85412487],\n",
       "        [ 0.47763034,  0.75308372,  0.58645173, ...,  0.13248176,\n",
       "          0.2105735 , -0.58093845],\n",
       "        [-0.63553792,  0.89116859, -2.56674101, ..., -0.60674104,\n",
       "         -1.37955537, -0.44009287],\n",
       "        ...,\n",
       "        [-0.9220258 , -0.807776  , -1.09049624, ..., -0.11674078,\n",
       "         -0.50827568,  0.50610303],\n",
       "        [ 2.13321545,  0.45971677,  2.17183117, ...,  0.04117226,\n",
       "          0.62752621,  1.31219763],\n",
       "        [ 0.90021404,  1.07863819, -0.12881333, ...,  1.09205134,\n",
       "         -1.32029589, -2.91073616]]),\n",
       " 51539607552,\n",
       " 1536877715.579315,\n",
       " 1536877715.7405624)"
      ]
     },
     "execution_count": 26,
     "metadata": {},
     "output_type": "execute_result"
    }
   ],
   "source": [
    "do_gemm(A,B,0)"
   ]
  },
  {
   "cell_type": "code",
   "execution_count": 25,
   "metadata": {},
   "outputs": [],
   "source": [
    "def runner(A,B,j,read_lock, compute_lock, write_lock, pipe, iters=3):\n",
    "    total_reads = 0\n",
    "    total_writes = 0\n",
    "    total_compute = 0\n",
    "    read_times = []\n",
    "    compute_times = []\n",
    "    write_times = []\n",
    "    for i in range(iters):\n",
    "        t = time.time()\n",
    "        read_lock.acquire()\n",
    "        A, reads, r_start, r_end = do_io_read(shard_idx=j, tid=j)\n",
    "        total_reads += reads\n",
    "        read_times.append((r_start, r_end))\n",
    "        A, reads, r_start, r_end = do_io_read(shard_idx=j, tid=j)\n",
    "        total_reads += reads\n",
    "        read_times.append((r_start, r_end))\n",
    "        B, reads, r_start, r_end = do_io_read(shard_idx=j, tid=j)\n",
    "        total_reads += reads\n",
    "        read_times.append((r_start, r_end))\n",
    "        start = time.time()\n",
    "        e = time.time()\n",
    "        t = time.time()\n",
    "        total_reads += reads\n",
    "        read_lock.release()\n",
    "        e = time.time()\n",
    "        t = time.time()\n",
    "        compute_lock.acquire()\n",
    "        e = time.time()\n",
    "        C, flops, start, end = do_gemm(A, B, tid=i)\n",
    "        compute_times.append((start, end))\n",
    "        total_compute += flops\n",
    "        compute_lock.release()\n",
    "        write_lock.acquire()\n",
    "        writes,start, end = do_io_write(C, shard_idx=j, tid=j)\n",
    "        write_times.append((start, end))\n",
    "        writes,start, end = do_io_write(C, shard_idx=j, tid=j)\n",
    "        write_times.append((start, end))\n",
    "        write_lock.release()\n",
    "        total_writes += writes\n",
    "    pipe.send([total_reads, total_writes, total_compute, read_times, write_times, compute_times])\n",
    "        \n",
    "    \n",
    "    \n",
    "    "
   ]
  },
  {
   "cell_type": "code",
   "execution_count": 18,
   "metadata": {},
   "outputs": [],
   "source": [
    "def calculate_aggregate_throughput(n_procs=2, n_iters=1):\n",
    "    t = time.time()\n",
    "    futures = []\n",
    "    read_lock = Lock() \n",
    "    write_lock = Lock() \n",
    "    compute_lock = Lock() \n",
    "    parent_conns = []\n",
    "    read_intervals = []\n",
    "    write_intervals = []\n",
    "    compute_intervals = []\n",
    "    for i in range(n_procs):\n",
    "        parent_conn, child_conn = Pipe()\n",
    "        p = Process(target=runner, args=(A,B,i,read_lock,compute_lock,write_lock,child_conn,n_iters))\n",
    "        p.start()\n",
    "        parent_conns.append(parent_conn)\n",
    "    total_read = 0\n",
    "    total_write = 0\n",
    "    total_compute = 0\n",
    "    read_times = []\n",
    "    for p in parent_conns:\n",
    "        #print(\"reading from parent\")\n",
    "        res = p.recv()\n",
    "        print(res)\n",
    "        total_read += res[0]\n",
    "        total_compute += res[2]\n",
    "        total_write += res[1]\n",
    "        read_intervals.extend(res[3])\n",
    "        write_intervals.extend(res[4])\n",
    "        compute_intervals.extend(res[5])\n",
    "    e = time.time()\n",
    "    read_rate = total_read/((e - t)*1e6)\n",
    "    write_rate = total_write/((e - t)*1e6)\n",
    "    compute_rate = total_compute/((e - t)*1e9)\n",
    "    print(\"aggregate compute rate \", compute_rate)\n",
    "    print(\"aggregate read rate \", read_rate)\n",
    "    print(\"aggregate write rate \", write_rate)\n",
    "    return read_intervals, write_intervals, compute_intervals\n",
    "        \n",
    "    \n",
    "    "
   ]
  },
  {
   "cell_type": "code",
   "execution_count": 19,
   "metadata": {},
   "outputs": [
    {
     "name": "stderr",
     "output_type": "stream",
     "text": [
      "Process Process-2:\n",
      "Traceback (most recent call last):\n",
      "  File \"/home/ubuntu/anaconda3/lib/python3.6/multiprocessing/process.py\", line 258, in _bootstrap\n",
      "    self.run()\n",
      "  File \"/home/ubuntu/anaconda3/lib/python3.6/multiprocessing/process.py\", line 93, in run\n",
      "    self._target(*self._args, **self._kwargs)\n",
      "  File \"<ipython-input-17-23c25d89a975>\", line 11, in runner\n",
      "    A, reads, r_start, r_end = do_io_read(shard_idx=j, tid=j)\n",
      "  File \"<ipython-input-11-ff6ac829b0da>\", line 29, in do_io_read\n",
      "    data = client.get_object(Key=\"iotest/read_{0}\".format(shard_idx), Bucket=\"numpywrennsdi\")[\"Body\"].read()\n",
      "  File \"/home/ubuntu/anaconda3/lib/python3.6/site-packages/botocore/client.py\", line 314, in _api_call\n",
      "    return self._make_api_call(operation_name, kwargs)\n",
      "  File \"/home/ubuntu/anaconda3/lib/python3.6/site-packages/botocore/client.py\", line 612, in _make_api_call\n",
      "    raise error_class(parsed_response, operation_name)\n",
      "botocore.errorfactory.NoSuchKey: An error occurred (NoSuchKey) when calling the GetObject operation: The specified key does not exist.\n",
      "Process Process-1:\n",
      "  File \"/home/ubuntu/anaconda3/lib/python3.6/site-packages/botocore/endpoint.py\", line 170, in _send_request\n",
      "    request, operation_model, attempts)\n",
      "Process Process-3:\n",
      "Traceback (most recent call last):\n",
      "  File \"/home/ubuntu/anaconda3/lib/python3.6/multiprocessing/process.py\", line 258, in _bootstrap\n",
      "    self.run()\n"
     ]
    },
    {
     "ename": "KeyboardInterrupt",
     "evalue": "",
     "output_type": "error",
     "traceback": [
      "\u001b[0;31m---------------------------------------------------------------------------\u001b[0m",
      "\u001b[0;31mKeyboardInterrupt\u001b[0m                         Traceback (most recent call last)",
      "\u001b[0;32m<ipython-input-19-43cc40061120>\u001b[0m in \u001b[0;36m<module>\u001b[0;34m()\u001b[0m\n\u001b[0;32m----> 1\u001b[0;31m \u001b[0mread_intervals\u001b[0m\u001b[0;34m,\u001b[0m \u001b[0mwrite_intervals\u001b[0m\u001b[0;34m,\u001b[0m \u001b[0mcomputer_intervals\u001b[0m \u001b[0;34m=\u001b[0m \u001b[0mcalculate_aggregate_throughput\u001b[0m\u001b[0;34m(\u001b[0m\u001b[0mn_procs\u001b[0m\u001b[0;34m=\u001b[0m\u001b[0;36m3\u001b[0m\u001b[0;34m,\u001b[0m \u001b[0mn_iters\u001b[0m\u001b[0;34m=\u001b[0m\u001b[0;36m5\u001b[0m\u001b[0;34m)\u001b[0m\u001b[0;34m\u001b[0m\u001b[0m\n\u001b[0m",
      "\u001b[0;32m<ipython-input-18-182a6fe764a7>\u001b[0m in \u001b[0;36mcalculate_aggregate_throughput\u001b[0;34m(n_procs, n_iters)\u001b[0m\n\u001b[1;32m     20\u001b[0m     \u001b[0;32mfor\u001b[0m \u001b[0mp\u001b[0m \u001b[0;32min\u001b[0m \u001b[0mparent_conns\u001b[0m\u001b[0;34m:\u001b[0m\u001b[0;34m\u001b[0m\u001b[0m\n\u001b[1;32m     21\u001b[0m         \u001b[0;31m#print(\"reading from parent\")\u001b[0m\u001b[0;34m\u001b[0m\u001b[0;34m\u001b[0m\u001b[0m\n\u001b[0;32m---> 22\u001b[0;31m         \u001b[0mres\u001b[0m \u001b[0;34m=\u001b[0m \u001b[0mp\u001b[0m\u001b[0;34m.\u001b[0m\u001b[0mrecv\u001b[0m\u001b[0;34m(\u001b[0m\u001b[0;34m)\u001b[0m\u001b[0;34m\u001b[0m\u001b[0m\n\u001b[0m\u001b[1;32m     23\u001b[0m         \u001b[0mprint\u001b[0m\u001b[0;34m(\u001b[0m\u001b[0mres\u001b[0m\u001b[0;34m)\u001b[0m\u001b[0;34m\u001b[0m\u001b[0m\n\u001b[1;32m     24\u001b[0m         \u001b[0mtotal_read\u001b[0m \u001b[0;34m+=\u001b[0m \u001b[0mres\u001b[0m\u001b[0;34m[\u001b[0m\u001b[0;36m0\u001b[0m\u001b[0;34m]\u001b[0m\u001b[0;34m\u001b[0m\u001b[0m\n",
      "\u001b[0;32m~/anaconda3/lib/python3.6/multiprocessing/connection.py\u001b[0m in \u001b[0;36mrecv\u001b[0;34m(self)\u001b[0m\n\u001b[1;32m    248\u001b[0m         \u001b[0mself\u001b[0m\u001b[0;34m.\u001b[0m\u001b[0m_check_closed\u001b[0m\u001b[0;34m(\u001b[0m\u001b[0;34m)\u001b[0m\u001b[0;34m\u001b[0m\u001b[0m\n\u001b[1;32m    249\u001b[0m         \u001b[0mself\u001b[0m\u001b[0;34m.\u001b[0m\u001b[0m_check_readable\u001b[0m\u001b[0;34m(\u001b[0m\u001b[0;34m)\u001b[0m\u001b[0;34m\u001b[0m\u001b[0m\n\u001b[0;32m--> 250\u001b[0;31m         \u001b[0mbuf\u001b[0m \u001b[0;34m=\u001b[0m \u001b[0mself\u001b[0m\u001b[0;34m.\u001b[0m\u001b[0m_recv_bytes\u001b[0m\u001b[0;34m(\u001b[0m\u001b[0;34m)\u001b[0m\u001b[0;34m\u001b[0m\u001b[0m\n\u001b[0m\u001b[1;32m    251\u001b[0m         \u001b[0;32mreturn\u001b[0m \u001b[0m_ForkingPickler\u001b[0m\u001b[0;34m.\u001b[0m\u001b[0mloads\u001b[0m\u001b[0;34m(\u001b[0m\u001b[0mbuf\u001b[0m\u001b[0;34m.\u001b[0m\u001b[0mgetbuffer\u001b[0m\u001b[0;34m(\u001b[0m\u001b[0;34m)\u001b[0m\u001b[0;34m)\u001b[0m\u001b[0;34m\u001b[0m\u001b[0m\n\u001b[1;32m    252\u001b[0m \u001b[0;34m\u001b[0m\u001b[0m\n",
      "\u001b[0;32m~/anaconda3/lib/python3.6/multiprocessing/connection.py\u001b[0m in \u001b[0;36m_recv_bytes\u001b[0;34m(self, maxsize)\u001b[0m\n\u001b[1;32m    405\u001b[0m \u001b[0;34m\u001b[0m\u001b[0m\n\u001b[1;32m    406\u001b[0m     \u001b[0;32mdef\u001b[0m \u001b[0m_recv_bytes\u001b[0m\u001b[0;34m(\u001b[0m\u001b[0mself\u001b[0m\u001b[0;34m,\u001b[0m \u001b[0mmaxsize\u001b[0m\u001b[0;34m=\u001b[0m\u001b[0;32mNone\u001b[0m\u001b[0;34m)\u001b[0m\u001b[0;34m:\u001b[0m\u001b[0;34m\u001b[0m\u001b[0m\n\u001b[0;32m--> 407\u001b[0;31m         \u001b[0mbuf\u001b[0m \u001b[0;34m=\u001b[0m \u001b[0mself\u001b[0m\u001b[0;34m.\u001b[0m\u001b[0m_recv\u001b[0m\u001b[0;34m(\u001b[0m\u001b[0;36m4\u001b[0m\u001b[0;34m)\u001b[0m\u001b[0;34m\u001b[0m\u001b[0m\n\u001b[0m\u001b[1;32m    408\u001b[0m         \u001b[0msize\u001b[0m\u001b[0;34m,\u001b[0m \u001b[0;34m=\u001b[0m \u001b[0mstruct\u001b[0m\u001b[0;34m.\u001b[0m\u001b[0munpack\u001b[0m\u001b[0;34m(\u001b[0m\u001b[0;34m\"!i\"\u001b[0m\u001b[0;34m,\u001b[0m \u001b[0mbuf\u001b[0m\u001b[0;34m.\u001b[0m\u001b[0mgetvalue\u001b[0m\u001b[0;34m(\u001b[0m\u001b[0;34m)\u001b[0m\u001b[0;34m)\u001b[0m\u001b[0;34m\u001b[0m\u001b[0m\n\u001b[1;32m    409\u001b[0m         \u001b[0;32mif\u001b[0m \u001b[0mmaxsize\u001b[0m \u001b[0;32mis\u001b[0m \u001b[0;32mnot\u001b[0m \u001b[0;32mNone\u001b[0m \u001b[0;32mand\u001b[0m \u001b[0msize\u001b[0m \u001b[0;34m>\u001b[0m \u001b[0mmaxsize\u001b[0m\u001b[0;34m:\u001b[0m\u001b[0;34m\u001b[0m\u001b[0m\n",
      "\u001b[0;32m~/anaconda3/lib/python3.6/multiprocessing/connection.py\u001b[0m in \u001b[0;36m_recv\u001b[0;34m(self, size, read)\u001b[0m\n\u001b[1;32m    377\u001b[0m         \u001b[0mremaining\u001b[0m \u001b[0;34m=\u001b[0m \u001b[0msize\u001b[0m\u001b[0;34m\u001b[0m\u001b[0m\n\u001b[1;32m    378\u001b[0m         \u001b[0;32mwhile\u001b[0m \u001b[0mremaining\u001b[0m \u001b[0;34m>\u001b[0m \u001b[0;36m0\u001b[0m\u001b[0;34m:\u001b[0m\u001b[0;34m\u001b[0m\u001b[0m\n\u001b[0;32m--> 379\u001b[0;31m             \u001b[0mchunk\u001b[0m \u001b[0;34m=\u001b[0m \u001b[0mread\u001b[0m\u001b[0;34m(\u001b[0m\u001b[0mhandle\u001b[0m\u001b[0;34m,\u001b[0m \u001b[0mremaining\u001b[0m\u001b[0;34m)\u001b[0m\u001b[0;34m\u001b[0m\u001b[0m\n\u001b[0m\u001b[1;32m    380\u001b[0m             \u001b[0mn\u001b[0m \u001b[0;34m=\u001b[0m \u001b[0mlen\u001b[0m\u001b[0;34m(\u001b[0m\u001b[0mchunk\u001b[0m\u001b[0;34m)\u001b[0m\u001b[0;34m\u001b[0m\u001b[0m\n\u001b[1;32m    381\u001b[0m             \u001b[0;32mif\u001b[0m \u001b[0mn\u001b[0m \u001b[0;34m==\u001b[0m \u001b[0;36m0\u001b[0m\u001b[0;34m:\u001b[0m\u001b[0;34m\u001b[0m\u001b[0m\n",
      "\u001b[0;31mKeyboardInterrupt\u001b[0m: "
     ]
    },
    {
     "name": "stderr",
     "output_type": "stream",
     "text": [
      "Traceback (most recent call last):\n",
      "  File \"/home/ubuntu/anaconda3/lib/python3.6/multiprocessing/process.py\", line 93, in run\n",
      "    self._target(*self._args, **self._kwargs)\n",
      "  File \"/home/ubuntu/anaconda3/lib/python3.6/multiprocessing/process.py\", line 258, in _bootstrap\n",
      "    self.run()\n",
      "  File \"<ipython-input-17-23c25d89a975>\", line 10, in runner\n",
      "    read_lock.acquire()\n",
      "KeyboardInterrupt\n",
      "  File \"/home/ubuntu/anaconda3/lib/python3.6/multiprocessing/process.py\", line 93, in run\n",
      "    self._target(*self._args, **self._kwargs)\n",
      "  File \"<ipython-input-17-23c25d89a975>\", line 36, in runner\n",
      "    writes,start, end = do_io_write(C, shard_idx=j, tid=j)\n",
      "  File \"<ipython-input-11-ff6ac829b0da>\", line 20, in do_io_write\n",
      "    z = client.put_object(Key=key, Bucket=\"numpywrennsdi\", Body=bio.getvalue())\n",
      "  File \"/home/ubuntu/anaconda3/lib/python3.6/site-packages/botocore/client.py\", line 314, in _api_call\n",
      "    return self._make_api_call(operation_name, kwargs)\n",
      "  File \"/home/ubuntu/anaconda3/lib/python3.6/site-packages/botocore/client.py\", line 599, in _make_api_call\n",
      "    operation_model, request_dict)\n",
      "  File \"/home/ubuntu/anaconda3/lib/python3.6/site-packages/botocore/endpoint.py\", line 143, in make_request\n",
      "    return self._send_request(request_dict, operation_model)\n",
      "  File \"/home/ubuntu/anaconda3/lib/python3.6/site-packages/botocore/endpoint.py\", line 213, in _get_response\n",
      "    proxies=self.proxies, timeout=self.timeout)\n",
      "  File \"/home/ubuntu/anaconda3/lib/python3.6/site-packages/botocore/vendored/requests/sessions.py\", line 573, in send\n",
      "    r = adapter.send(request, **kwargs)\n",
      "  File \"/home/ubuntu/anaconda3/lib/python3.6/site-packages/botocore/vendored/requests/adapters.py\", line 370, in send\n",
      "    timeout=timeout\n",
      "  File \"/home/ubuntu/anaconda3/lib/python3.6/site-packages/botocore/vendored/requests/packages/urllib3/connectionpool.py\", line 544, in urlopen\n",
      "    body=body, headers=headers)\n",
      "  File \"/home/ubuntu/anaconda3/lib/python3.6/site-packages/botocore/vendored/requests/packages/urllib3/connectionpool.py\", line 349, in _make_request\n",
      "    conn.request(method, url, **httplib_request_kw)\n",
      "  File \"/home/ubuntu/anaconda3/lib/python3.6/http/client.py\", line 1239, in request\n",
      "    self._send_request(method, url, body, headers, encode_chunked)\n",
      "  File \"/home/ubuntu/anaconda3/lib/python3.6/site-packages/botocore/awsrequest.py\", line 130, in _send_request\n",
      "    self, method, url, body, headers, *args, **kwargs)\n",
      "  File \"/home/ubuntu/anaconda3/lib/python3.6/http/client.py\", line 1285, in _send_request\n",
      "    self.endheaders(body, encode_chunked=encode_chunked)\n",
      "  File \"/home/ubuntu/anaconda3/lib/python3.6/http/client.py\", line 1234, in endheaders\n",
      "    self._send_output(message_body, encode_chunked=encode_chunked)\n",
      "  File \"/home/ubuntu/anaconda3/lib/python3.6/site-packages/botocore/awsrequest.py\", line 165, in _send_output\n",
      "    self._handle_expect_response(message_body)\n",
      "  File \"/home/ubuntu/anaconda3/lib/python3.6/site-packages/botocore/awsrequest.py\", line 208, in _handle_expect_response\n",
      "    self._send_message_body(message_body)\n",
      "  File \"/home/ubuntu/anaconda3/lib/python3.6/site-packages/botocore/awsrequest.py\", line 235, in _send_message_body\n",
      "    self.send(message_body)\n",
      "  File \"/home/ubuntu/anaconda3/lib/python3.6/site-packages/botocore/awsrequest.py\", line 242, in send\n",
      "    return HTTPConnection.send(self, str)\n",
      "  File \"/home/ubuntu/anaconda3/lib/python3.6/http/client.py\", line 983, in send\n",
      "    self.sock.sendall(datablock)\n",
      "KeyboardInterrupt\n"
     ]
    }
   ],
   "source": [
    "read_intervals, write_intervals, computer_intervals = calculate_aggregate_throughput(n_procs=3, n_iters=5)"
   ]
  },
  {
   "cell_type": "code",
   "execution_count": 295,
   "metadata": {},
   "outputs": [
    {
     "data": {
      "text/plain": [
       "-0.0006320476531982422"
      ]
     },
     "execution_count": 295,
     "metadata": {},
     "output_type": "execute_result"
    }
   ],
   "source": [
    "read_intervals[0][1] - read_intervals[1][0]"
   ]
  },
  {
   "cell_type": "code",
   "execution_count": 296,
   "metadata": {},
   "outputs": [],
   "source": [
    "read_intervals = sorted(read_intervals, key=lambda x: x[0])"
   ]
  },
  {
   "cell_type": "code",
   "execution_count": 297,
   "metadata": {},
   "outputs": [
    {
     "data": {
      "text/plain": [
       "[0.0006320476531982422,\n",
       " 0.0007576942443847656,\n",
       " 0.0005993843078613281,\n",
       " 0.0009076595306396484,\n",
       " 0.0009753704071044922,\n",
       " 0.0007512569427490234,\n",
       " 0.0008726119995117188,\n",
       " 0.0009682178497314453,\n",
       " 0.842909574508667,\n",
       " 0.0012776851654052734,\n",
       " 0.0009372234344482422,\n",
       " 0.749408483505249,\n",
       " 0.0008175373077392578,\n",
       " 0.0009737014770507812,\n",
       " 0.9150121212005615,\n",
       " 0.0006265640258789062,\n",
       " 0.0007078647613525391,\n",
       " 0.7746350765228271,\n",
       " 0.0007135868072509766,\n",
       " 0.0007064342498779297,\n",
       " 0.5459015369415283,\n",
       " 0.0009033679962158203,\n",
       " 0.008963584899902344,\n",
       " 0.5402758121490479,\n",
       " 0.0006968975067138672,\n",
       " 0.0050506591796875,\n",
       " 0.49687790870666504,\n",
       " 0.0006647109985351562,\n",
       " 0.0009801387786865234,\n",
       " 0.8598496913909912,\n",
       " 0.0007185935974121094,\n",
       " 0.0007143020629882812,\n",
       " 3.670382261276245,\n",
       " 0.0008172988891601562,\n",
       " 0.0009157657623291016,\n",
       " 0.30017685890197754,\n",
       " 0.0007014274597167969,\n",
       " 0.0009517669677734375,\n",
       " 0.7519338130950928,\n",
       " 0.0006074905395507812,\n",
       " 0.0010662078857421875,\n",
       " 0.6114416122436523,\n",
       " 0.0009629726409912109,\n",
       " 0.0009770393371582031]"
      ]
     },
     "execution_count": 297,
     "metadata": {},
     "output_type": "execute_result"
    }
   ],
   "source": [
    "[y[0] - x[1] for x,y in zip(read_intervals[:-1], read_intervals[1:])]"
   ]
  },
  {
   "cell_type": "code",
   "execution_count": 298,
   "metadata": {},
   "outputs": [
    {
     "data": {
      "text/plain": [
       "[((1536873456.5467088, 1536873457.0245552),\n",
       "  (1536873457.0251873, 1536873457.5267637)),\n",
       " ((1536873457.0251873, 1536873457.5267637),\n",
       "  (1536873457.5275214, 1536873457.9620948)),\n",
       " ((1536873457.5275214, 1536873457.9620948),\n",
       "  (1536873457.9626942, 1536873458.4520326)),\n",
       " ((1536873457.9626942, 1536873458.4520326),\n",
       "  (1536873458.4529402, 1536873458.9287887)),\n",
       " ((1536873458.4529402, 1536873458.9287887),\n",
       "  (1536873458.929764, 1536873459.3976395)),\n",
       " ((1536873458.929764, 1536873459.3976395),\n",
       "  (1536873459.3983908, 1536873460.1485808)),\n",
       " ((1536873459.3983908, 1536873460.1485808),\n",
       "  (1536873460.1494534, 1536873460.798485)),\n",
       " ((1536873460.1494534, 1536873460.798485),\n",
       "  (1536873460.7994533, 1536873461.2606518)),\n",
       " ((1536873460.7994533, 1536873461.2606518),\n",
       "  (1536873462.1035614, 1536873462.7215977)),\n",
       " ((1536873462.1035614, 1536873462.7215977),\n",
       "  (1536873462.7228754, 1536873463.2521467)),\n",
       " ((1536873462.7228754, 1536873463.2521467),\n",
       "  (1536873463.253084, 1536873463.733765)),\n",
       " ((1536873463.253084, 1536873463.733765),\n",
       "  (1536873464.4831734, 1536873464.9682226)),\n",
       " ((1536873464.4831734, 1536873464.9682226),\n",
       "  (1536873464.9690402, 1536873465.5641248)),\n",
       " ((1536873464.9690402, 1536873465.5641248),\n",
       "  (1536873465.5650985, 1536873466.0399055)),\n",
       " ((1536873465.5650985, 1536873466.0399055),\n",
       "  (1536873466.9549177, 1536873467.4435825)),\n",
       " ((1536873466.9549177, 1536873467.4435825),\n",
       "  (1536873467.444209, 1536873468.0214653)),\n",
       " ((1536873467.444209, 1536873468.0214653),\n",
       "  (1536873468.0221732, 1536873468.4645433)),\n",
       " ((1536873468.0221732, 1536873468.4645433),\n",
       "  (1536873469.2391784, 1536873469.8103948)),\n",
       " ((1536873469.2391784, 1536873469.8103948),\n",
       "  (1536873469.8111084, 1536873470.393741)),\n",
       " ((1536873469.8111084, 1536873470.393741),\n",
       "  (1536873470.3944473, 1536873470.8944604)),\n",
       " ((1536873470.3944473, 1536873470.8944604),\n",
       "  (1536873471.440362, 1536873471.982592)),\n",
       " ((1536873471.440362, 1536873471.982592),\n",
       "  (1536873471.9834955, 1536873472.538864)),\n",
       " ((1536873471.9834955, 1536873472.538864),\n",
       "  (1536873472.5478275, 1536873473.0948927)),\n",
       " ((1536873472.5478275, 1536873473.0948927),\n",
       "  (1536873473.6351686, 1536873474.147614)),\n",
       " ((1536873473.6351686, 1536873474.147614),\n",
       "  (1536873474.148311, 1536873474.774875)),\n",
       " ((1536873474.148311, 1536873474.774875),\n",
       "  (1536873474.7799256, 1536873475.3222978)),\n",
       " ((1536873474.7799256, 1536873475.3222978),\n",
       "  (1536873475.8191757, 1536873476.304129)),\n",
       " ((1536873475.8191757, 1536873476.304129),\n",
       "  (1536873476.3047936, 1536873476.93898)),\n",
       " ((1536873476.3047936, 1536873476.93898),\n",
       "  (1536873476.9399602, 1536873477.386959)),\n",
       " ((1536873476.9399602, 1536873477.386959),\n",
       "  (1536873478.2468088, 1536873478.728964)),\n",
       " ((1536873478.2468088, 1536873478.728964),\n",
       "  (1536873478.7296827, 1536873479.305526)),\n",
       " ((1536873478.7296827, 1536873479.305526),\n",
       "  (1536873479.3062403, 1536873479.7532823)),\n",
       " ((1536873479.3062403, 1536873479.7532823),\n",
       "  (1536873483.4236646, 1536873483.9481163)),\n",
       " ((1536873483.4236646, 1536873483.9481163),\n",
       "  (1536873483.9489336, 1536873484.4803886)),\n",
       " ((1536873483.9489336, 1536873484.4803886),\n",
       "  (1536873484.4813044, 1536873485.0580997)),\n",
       " ((1536873484.4813044, 1536873485.0580997),\n",
       "  (1536873485.3582766, 1536873485.9078608)),\n",
       " ((1536873485.3582766, 1536873485.9078608),\n",
       "  (1536873485.9085622, 1536873486.4565575)),\n",
       " ((1536873485.9085622, 1536873486.4565575),\n",
       "  (1536873486.4575093, 1536873487.0322015)),\n",
       " ((1536873486.4575093, 1536873487.0322015),\n",
       "  (1536873487.7841353, 1536873488.2621326)),\n",
       " ((1536873487.7841353, 1536873488.2621326),\n",
       "  (1536873488.2627401, 1536873488.8573606)),\n",
       " ((1536873488.2627401, 1536873488.8573606),\n",
       "  (1536873488.8584268, 1536873489.3031626)),\n",
       " ((1536873488.8584268, 1536873489.3031626),\n",
       "  (1536873489.9146042, 1536873490.4545615)),\n",
       " ((1536873489.9146042, 1536873490.4545615),\n",
       "  (1536873490.4555244, 1536873490.9566274)),\n",
       " ((1536873490.4555244, 1536873490.9566274),\n",
       "  (1536873490.9576044, 1536873491.427698))]"
      ]
     },
     "execution_count": 298,
     "metadata": {},
     "output_type": "execute_result"
    }
   ],
   "source": [
    "list(zip(read_intervals[:-1], read_intervals[1:]))"
   ]
  },
  {
   "cell_type": "code",
   "execution_count": null,
   "metadata": {},
   "outputs": [],
   "source": []
  },
  {
   "cell_type": "code",
   "execution_count": null,
   "metadata": {},
   "outputs": [],
   "source": []
  },
  {
   "cell_type": "code",
   "execution_count": 299,
   "metadata": {},
   "outputs": [],
   "source": [
    "read_start =  min([x[0] for x in read_intervals])\n",
    "read_end =  max([x[1] for x in read_intervals])"
   ]
  },
  {
   "cell_type": "code",
   "execution_count": 300,
   "metadata": {},
   "outputs": [],
   "source": [
    "bins = np.arange(read_start, read_end)"
   ]
  },
  {
   "cell_type": "code",
   "execution_count": 301,
   "metadata": {},
   "outputs": [],
   "source": [
    "start_bin, end_bin = np.searchsorted(bins, [read_start, read_end])"
   ]
  },
  {
   "cell_type": "code",
   "execution_count": 302,
   "metadata": {},
   "outputs": [],
   "source": [
    "read_times = np.zeros(len(bins))"
   ]
  },
  {
   "cell_type": "code",
   "execution_count": 303,
   "metadata": {},
   "outputs": [],
   "source": [
    "for s,e in read_intervals:\n",
    "    start_bin, end_bin = np.searchsorted(bins, [s, e])\n",
    "    read_times[start_bin:end_bin] += 1\n"
   ]
  },
  {
   "cell_type": "code",
   "execution_count": 304,
   "metadata": {},
   "outputs": [
    {
     "name": "stdout",
     "output_type": "stream",
     "text": [
      "Populating the interactive namespace from numpy and matplotlib\n"
     ]
    },
    {
     "name": "stderr",
     "output_type": "stream",
     "text": [
      "/home/ubuntu/anaconda3/lib/python3.6/site-packages/IPython/core/magics/pylab.py:160: UserWarning: pylab import has clobbered these variables: ['e']\n",
      "`%matplotlib` prevents importing * from pylab and numpy\n",
      "  \"\\n`%matplotlib` prevents importing * from pylab and numpy\"\n"
     ]
    }
   ],
   "source": [
    "%pylab inline"
   ]
  },
  {
   "cell_type": "code",
   "execution_count": 305,
   "metadata": {},
   "outputs": [
    {
     "data": {
      "text/plain": [
       "[<matplotlib.lines.Line2D at 0x7f4bb820c3c8>]"
      ]
     },
     "execution_count": 305,
     "metadata": {},
     "output_type": "execute_result"
    },
    {
     "data": {
      "image/png": "[encoded data removed]",
      "text/plain": [
       "<Figure size 432x288 with 1 Axes>"
      ]
     },
     "metadata": {},
     "output_type": "display_data"
    }
   ],
   "source": [
    "plt.plot(bins, read_times)"
   ]
  },
  {
   "cell_type": "code",
   "execution_count": null,
   "metadata": {},
   "outputs": [],
   "source": []
  }
 ],
 "metadata": {
  "kernelspec": {
   "display_name": "Python 3",
   "language": "python",
   "name": "python3"
  },
  "language_info": {
   "codemirror_mode": {
    "name": "ipython",
    "version": 3
   },
   "file_extension": ".py",
   "mimetype": "text/x-python",
   "name": "python",
   "nbconvert_exporter": "python",
   "pygments_lexer": "ipython3",
   "version": "3.6.4"
  }
 },
 "nbformat": 4,
 "nbformat_minor": 2
}
